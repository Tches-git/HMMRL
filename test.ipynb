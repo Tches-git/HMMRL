{
 "cells": [
  {
   "cell_type": "markdown",
   "metadata": {},
   "source": [
    "隐马尔可夫模型\n",
    "\n",
    "# define the model states\n",
    "\n",
    "states={\n",
    "    frage1:[x1,x2,θ1],\n",
    "    frage2:[x1,x2,θ2],   \n",
    "    frage3:[x1,x2,θ3],\n",
    "    ......\n",
    "}\n",
    "\n",
    "# define the model observations\n",
    "\n",
    "observations=[\n",
    "    {shape:边缘特征,text:BERT语义向量,layout:版面结构},\n",
    "    ......\n",
    "]\n",
    "\n",
    "# define the start_probability,transition_probability,emission_probability\n",
    "\n",
    "start_probability \n",
    "transition_probability\n",
    "emission_probability"
   ]
  },
  {
   "cell_type": "markdown",
   "metadata": {},
   "source": [
    "马尔可夫随机场\n",
    "# 符号体系定义\n",
    "设：\n",
    "X = {x₁, x₂, ..., xₙ}            # 节点集合，xᵢ ∈ R^d 表示第i个残片的多模态特征\n",
    "E ⊆ X × X                        # 边集合，表示潜在拼接关系\n",
    "C ⊆ E                            # 候选边集合（|C|=K）\n",
    "\n",
    "# 边权函数\n",
    "∀(x_i, x_j) ∈ E，定义：\n",
    "ϕ(x_i, x_j) = αϕ_geo(x_i, x_j) + βϕ_text(x_i, x_j) + γϕ_material(x_i, x_j)\n",
    "\n",
    "其中：\n",
    "α + β + γ = 1                 # 权重系数约束\n",
    "ϕ_geo(x_i, x_j) = exp(-ICP(x_i, x_j))  # 几何势函数\n",
    "ϕ_text(x_i, x_j) = cos(BERT(x_i), BERT(x_j))  # 文本相似度\n",
    "......\n",
    "\n",
    "# 置信传播结果\n",
    "P = {p_ij | ∀(x_i, x_j) ∈ E}    # 边缘概率集合，p_ij ∈ [0,1] 表示边存在的概率\n",
    "\n",
    "# 强化学习相关\n",
    "S_t ∈ R^m                       # 状态表示（m=GNN编码维度+CNN特征维度）\n",
    "A_t = (e_k, Δθ)                 # 混合动作空间，其中：\n",
    "                                # e_k ∈ C 为选择的边\n",
    "                                # Δθ ∈ [-π, π] 为旋转调整量\n",
    "R_t = ϕ(x_i, x_j) + λ·SemanticScore(x_i, x_j) # 即时奖励函数"
   ]
  }
 ],
 "metadata": {
  "kernelspec": {
   "display_name": "myenv",
   "language": "python",
   "name": "python3"
  },
  "language_info": {
   "codemirror_mode": {
    "name": "ipython",
    "version": 3
   },
   "file_extension": ".py",
   "mimetype": "text/x-python",
   "name": "python",
   "nbconvert_exporter": "python",
   "pygments_lexer": "ipython3",
   "version": "3.9.19"
  }
 },
 "nbformat": 4,
 "nbformat_minor": 2
}
