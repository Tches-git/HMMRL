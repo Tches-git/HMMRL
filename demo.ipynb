import torch
import numpy as np
from sklearn.metrics.pairwise import cosine_similarity

class Fragment:
    def __init__(self, fragment_id, geo_feature, text_embedding, material_feature):
        self.id = fragment_id
        self.geo = geo_feature  # 几何特征向量
        self.text = text_embedding  # 文本嵌入向量
        self.material = material_feature  # 材料特征向量

class MRFReinforcementLearning:
    def __init__(self, fragments, candidate_edges, alpha=0.5, beta=0.3, gamma=0.2):
        self.X = fragments  # 碎片节点集合 <mcsymbol name="X" filename="demo.ipynb" path="c:\Users\28489\HMMRL\demo.ipynb" startline="7" type="variable"></mcsymbol>
        self.C = candidate_edges  # 候选边集合 <mcsymbol name="C" filename="demo.ipynb" path="c:\Users\28489\HMMRL\demo.ipynb" startline="9" type="variable"></mcsymbol>
        self.alpha, self.beta, self.gamma = self._validate_weights(alpha, beta, gamma)
        self.edge_probs = {}  # 边缘概率集合 <mcsymbol name="P" filename="demo.ipynb" path="c:\Users\28489\HMMRL\demo.ipynb" startline="25" type="variable"></mcsymbol>
        
    def _validate_weights(self, alpha, beta, gamma):
        """验证权重系数满足约束条件"""
        total = alpha + beta + gamma
        if not np.isclose(total, 1.0):
            raise ValueError(f"权重系数之和应为1，当前和为{total:.2f}")
        return alpha, beta, gamma
    
    def _phi_geo(self, x_i, x_j):
        """几何势函数计算"""
        # 此处应替换为实际ICP算法实现
        icp_distance = np.linalg.norm(x_i.geo - x_j.geo)
        return np.exp(-icp_distance)
    
    def _phi_text(self, x_i, x_j):
        """文本相似度计算"""
        return cosine_similarity([x_i.text], [x_j.text])[0][0]
    
    def _phi_material(self, x_i, x_j):
        """材料相似度计算"""
        return 1 / (1 + np.linalg.norm(x_i.material - x_j.material))
    
    def compute_edge_weights(self):
        """计算所有候选边的权重"""
        edge_weights = {}
        for (i, j) in self.C:
            x_i = next(f for f in self.X if f.id == i)
            x_j = next(f for f in self.X if f.id == j)
            phi = (self.alpha * self._phi_geo(x_i, x_j) +
                   self.beta * self._phi_text(x_i, x_j) +
                   self.gamma * self._phi_material(x_i, x_j))
            edge_weights[(i, j)] = phi
        return edge_weights
    
    def belief_propagation(self, max_iter=10):
        """置信传播算法实现（简化版）"""
        # 此处应实现完整置信传播算法
        edge_weights = self.compute_edge_weights()
        self.edge_probs = {e: sigmoid(w) for e, w in edge_weights.items()}
        return self.edge_probs
    
    def get_state(self):
        """获取当前状态表示"""
        # 此处应集成GNN和CNN的特征提取
        return np.random.randn(128)  # 临时占位
    
    def select_action(self, state):
        """强化学习动作选择"""
        # 此处应替换为策略网络
        edge = np.random.choice(len(self.C))
        delta_theta = np.random.uniform(-np.pi, np.pi)
        return (edge, delta_theta)
    
    def compute_reward(self, action):
        """奖励函数计算"""
        edge_idx, delta_theta = action
        (i, j) = self.C[edge_idx]
        x_i = next(f for f in self.X if f.id == i)
        x_j = next(f for f in self.X if f.id == j)
        
        # 基础边权值
        phi_val = self.compute_edge_weights()[(i, j)]
        # 语义得分（需实现具体算法）
        semantic_score = 0.0  
        return phi_val + 0.5 * semantic_score  # λ=0.5

def sigmoid(x):
    return 1 / (1 + np.exp(-x))