{
 "cells": [
  {
   "cell_type": "code",
   "execution_count": null,
   "metadata": {},
   "outputs": [],
   "source": []
  },
  {
   "cell_type": "code",
   "execution_count": 7,
   "metadata": {},
   "outputs": [
    {
     "name": "stdout",
     "output_type": "stream",
     "text": [
      "Centroid: (1471, 1191)\n"
     ]
    }
   ],
   "source": [
    "import cv2\n",
    "import numpy as np\n",
    "\n",
    "# 读取图像\n",
    "image = cv2.imread(r\"C:\\Users\\28489\\Desktop\\paired\\3\\3.jpg\")\n",
    "\n",
    "# 转换为灰度图像\n",
    "gray = cv2.cvtColor(image, cv2.COLOR_BGR2GRAY)\n",
    "\n",
    "# 二值化处理\n",
    "_, binary = cv2.threshold(gray, 10, 255, cv2.THRESH_BINARY)\n",
    "\n",
    "# 查找轮廓\n",
    "contours, _ = cv2.findContours(binary, cv2.RETR_EXTERNAL, cv2.CHAIN_APPROX_SIMPLE)\n",
    "\n",
    "# 找到最大的轮廓（假设残片是最大的对象）\n",
    "largest_contour = max(contours, key=cv2.contourArea)\n",
    "\n",
    "# 计算质心\n",
    "M = cv2.moments(largest_contour)\n",
    "if M[\"m00\"] != 0:\n",
    "    cX = int(M[\"m10\"] / M[\"m00\"])\n",
    "    cY = int(M[\"m01\"] / M[\"m00\"])\n",
    "else:\n",
    "    cX, cY = 0, 0\n",
    "\n",
    "# 在图像上绘制质心\n",
    "cv2.circle(image, (cX, cY), 5, (0, 0, 255), -1)\n",
    "cv2.putText(image, f\"Centroid: ({cX}, {cY})\", (cX - 25, cY - 25), cv2.FONT_HERSHEY_SIMPLEX, 0.5, (0, 0, 255), 2)\n",
    "\n",
    "# 创建一个与原图像大小相同的掩码\n",
    "mask = np.zeros_like(gray)\n",
    "cv2.drawContours(mask, [largest_contour], -1, (255), thickness=cv2.FILLED)\n",
    "\n",
    "# 应用掩码到原图像\n",
    "result = cv2.bitwise_and(image, image, mask=mask)\n",
    "\n",
    "# 裁剪图像\n",
    "x, y, w, h = cv2.boundingRect(largest_contour)\n",
    "cropped_result = result[y:y + h, x:x + w]\n",
    "\n",
    "# 计算裁剪后图像中的质心位置\n",
    "centroid_cropped_x = cX - x\n",
    "centroid_cropped_y = cY - y\n",
    "\n",
    "# 在裁剪后的图像上绘制质心\n",
    "cv2.circle(cropped_result, (centroid_cropped_x, centroid_cropped_y), 5, (0, 0, 255), -1)\n",
    "cv2.putText(cropped_result, f\"Centroid: ({centroid_cropped_x}, {centroid_cropped_y})\", (centroid_cropped_x - 25, centroid_cropped_y - 25), cv2.FONT_HERSHEY_SIMPLEX, 0.5, (0, 0, 255), 2)\n",
    "\n",
    "# 绘制坐标轴\n",
    "height, width = cropped_result.shape[:2]\n",
    "# 绘制 x 轴\n",
    "cv2.line(cropped_result, (0, centroid_cropped_y), (width, centroid_cropped_y), (255, 0, 0), 2)\n",
    "# 绘制 y 轴\n",
    "cv2.line(cropped_result, (centroid_cropped_x, 0), (centroid_cropped_x, height), (0, 255, 0), 2)\n",
    "\n",
    "# 调整窗口大小\n",
    "scale_percent = 25  # 调整比例，可以根据需要修改\n",
    "width = int(image.shape[1] * scale_percent / 100)\n",
    "height = int(image.shape[0] * scale_percent / 100)\n",
    "dim = (width, height)\n",
    "\n",
    "# 调整图像大小\n",
    "resized_image = cv2.resize(image, dim, interpolation = cv2.INTER_AREA)\n",
    "resized_cropped_result = cv2.resize(cropped_result, dim, interpolation = cv2.INTER_AREA)\n",
    "\n",
    "# 提取图像轮廓\n",
    "contour_image = cv2.cvtColor(gray.copy(), cv2.COLOR_GRAY2BGR)\n",
    "cv2.drawContours(contour_image, [largest_contour], -1, (0, 255, 0), 2)\n",
    "resized_contour = cv2.resize(contour_image, dim, interpolation = cv2.INTER_AREA)\n",
    "\n",
    "# 显示结果\n",
    "cv2.imshow('Original Image', resized_image)\n",
    "cv2.imshow('Cropped Result', resized_cropped_result)\n",
    "cv2.imshow('Extracted Contour', resized_contour)\n",
    "cv2.waitKey(0)\n",
    "cv2.destroyAllWindows()\n",
    "\n",
    "# 输出质心坐标\n",
    "print(f'Centroid: ({cX}, {cY})')\n"
   ]
  }
 ],
 "metadata": {
  "kernelspec": {
   "display_name": "myenv",
   "language": "python",
   "name": "python3"
  },
  "language_info": {
   "codemirror_mode": {
    "name": "ipython",
    "version": 3
   },
   "file_extension": ".py",
   "mimetype": "text/x-python",
   "name": "python",
   "nbconvert_exporter": "python",
   "pygments_lexer": "ipython3",
   "version": "3.11.9"
  }
 },
 "nbformat": 4,
 "nbformat_minor": 2
}
