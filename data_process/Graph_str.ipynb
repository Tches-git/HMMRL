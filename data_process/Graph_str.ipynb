{
 "cells": [
  {
   "cell_type": "code",
   "execution_count": 1,
   "metadata": {},
   "outputs": [
    {
     "name": "stdout",
     "output_type": "stream",
     "text": [
      "Nodes: [(0, {'node': <__main__.GraphNode object at 0x000001886FC11DC0>}), (1, {'node': <__main__.GraphNode object at 0x000001886FBF2550>})]\n",
      "Edges: [(0, 1)]\n"
     ]
    }
   ],
   "source": [
    "import networkx as nx\n",
    "\n",
    "class GraphNode:\n",
    "    def __init__(self, initial_direction, edge_curves, text_content):\n",
    "        \"\"\"\n",
    "        初始化图的节点。\n",
    "\n",
    "        :param initial_direction: 坐标系的初始方向\n",
    "        :param edge_curves: 提取到的四条边缘曲线\n",
    "        :param text_content: 文本内容\n",
    "        \"\"\"\n",
    "        self.initial_direction = initial_direction\n",
    "        self.edge_curves = edge_curves\n",
    "        self.text_content = text_content\n",
    "\n",
    "def are_edge_curves_complementary(curves1, curves2):\n",
    "    \"\"\"\n",
    "    判断两条边缘曲线是否互补。\n",
    "\n",
    "    :param curves1: 第一条边缘曲线\n",
    "    :param curves2: 第二条边缘曲线\n",
    "    :return: 如果互补返回 True，否则返回 False\n",
    "    \"\"\"\n",
    "    # 这里需要根据具体的边缘曲线互补判断逻辑实现\n",
    "    return True\n",
    "\n",
    "def is_semantically_coherent(text1, text2):\n",
    "    \"\"\"\n",
    "    判断两个文本内容是否语义通顺。\n",
    "\n",
    "    :param text1: 第一个文本内容\n",
    "    :param text2: 第二个文本内容\n",
    "    :return: 如果语义通顺返回 True，否则返回 False\n",
    "    \"\"\"\n",
    "    # 这里需要根据具体的语义判断逻辑实现\n",
    "    return True\n",
    "\n",
    "def build_graph(nodes):\n",
    "    \"\"\"\n",
    "    建立图结构。\n",
    "\n",
    "    :param nodes: 图的节点列表\n",
    "    :return: 构建好的图\n",
    "    \"\"\"\n",
    "    G = nx.Graph()\n",
    "    for i, node1 in enumerate(nodes):\n",
    "        G.add_node(i, node=node1)\n",
    "        for j, node2 in enumerate(nodes):\n",
    "            if i != j:\n",
    "                if are_edge_curves_complementary(node1.edge_curves, node2.edge_curves) and is_semantically_coherent(node1.text_content, node2.text_content):\n",
    "                    G.add_edge(i, j)\n",
    "    return G\n",
    "\n",
    "# 示例使用\n",
    "if __name__ == \"__main__\":\n",
    "    # 示例节点数据\n",
    "    node1 = GraphNode(\"up\", [\"curve1\", \"curve2\", \"curve3\", \"curve4\"], \"This is text 1\")\n",
    "    node2 = GraphNode(\"down\", [\"curve5\", \"curve6\", \"curve7\", \"curve8\"], \"This is text 2\")\n",
    "    nodes = [node1, node2]\n",
    "\n",
    "    # 构建图\n",
    "    graph = build_graph(nodes)\n",
    "\n",
    "    # 打印图的节点和边\n",
    "    print(\"Nodes:\", graph.nodes(data=True))\n",
    "    print(\"Edges:\", graph.edges())\n"
   ]
  }
 ],
 "metadata": {
  "kernelspec": {
   "display_name": "myenv",
   "language": "python",
   "name": "python3"
  },
  "language_info": {
   "codemirror_mode": {
    "name": "ipython",
    "version": 3
   },
   "file_extension": ".py",
   "mimetype": "text/x-python",
   "name": "python",
   "nbconvert_exporter": "python",
   "pygments_lexer": "ipython3",
   "version": "3.9.19"
  }
 },
 "nbformat": 4,
 "nbformat_minor": 2
}
