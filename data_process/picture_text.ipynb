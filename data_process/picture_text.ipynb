{
 "cells": [
  {
   "cell_type": "code",
<<<<<<< HEAD
   "execution_count": 2,
   "metadata": {},
   "outputs": [
    {
     "ename": "ModuleNotFoundError",
     "evalue": "No module named 'easyocr'",
     "output_type": "error",
     "traceback": [
      "\u001b[1;31m---------------------------------------------------------------------------\u001b[0m",
      "\u001b[1;31mModuleNotFoundError\u001b[0m                       Traceback (most recent call last)",
      "Cell \u001b[1;32mIn[2], line 1\u001b[0m\n\u001b[1;32m----> 1\u001b[0m \u001b[38;5;28;01mimport\u001b[39;00m \u001b[38;5;21;01measyocr\u001b[39;00m\n\u001b[0;32m      2\u001b[0m \u001b[38;5;28;01mimport\u001b[39;00m \u001b[38;5;21;01mcv2\u001b[39;00m\n\u001b[0;32m      3\u001b[0m \u001b[38;5;28;01mimport\u001b[39;00m \u001b[38;5;21;01msys\u001b[39;00m\n",
      "\u001b[1;31mModuleNotFoundError\u001b[0m: No module named 'easyocr'"
     ]
    }
   ],
   "source": [
    "import easyocr\n",
    "import cv2\n",
    "import sys\n",
    "\n",
    "def easyocr_recognize(image_path):\n",
    "    \"\"\"\n",
    "    使用EasyOCR识别图片中的文字\n",
    "    \n",
    "    参数:\n",
    "        image_path (str): 图片路径\n",
    "        \n",
    "    返回:\n",
    "        list: 识别结果列表，每个元素包含文字内容和位置信息\n",
    "    \"\"\"\n",
    "    # 初始化reader，指定中英文识别\n",
    "    reader = easyocr.Reader(['ch_sim', 'en'])\n",
    "    \n",
    "    # 读取图片\n",
    "    image = cv2.imread(image_path)\n",
    "    \n",
    "    # 进行OCR识别\n",
    "    results = reader.readtext(image)\n",
    "    \n",
    "    return results\n",
    "\n",
    "if __name__ == \"__main__\":\n",
    "    if len(sys.argv) < 2:\n",
    "        print(\"请提供图片路径作为参数\")\n",
    "        print(\"用法: python easyocr_demo.py <图片路径>\")\n",
    "        sys.exit(1)\n",
    "    \n",
    "    image_path = sys.argv[1]\n",
    "    results = easyocr_recognize(image_path)\n",
    "    \n",
    "    print(\"识别结果:\")\n",
    "    for (bbox, text, prob) in results:\n",
    "        print(f\"文本: {text}, 置信度: {prob:.2f}\")"
   ]
  }
 ],
 "metadata": {
  "kernelspec": {
   "display_name": "myenv",
   "language": "python",
   "name": "python3"
  },
  "language_info": {
   "codemirror_mode": {
    "name": "ipython",
    "version": 3
   },
   "file_extension": ".py",
   "mimetype": "text/x-python",
   "name": "python",
   "nbconvert_exporter": "python",
   "pygments_lexer": "ipython3",
   "version": "3.9.19"
=======
   "execution_count": null,
   "metadata": {
    "vscode": {
     "languageId": "plaintext"
    }
   },
   "outputs": [],
   "source": []
  }
 ],
 "metadata": {
  "language_info": {
   "name": "python"
>>>>>>> 5fdfaf3b6869fff157cb630c96d5ba39a2ae16bb
  }
 },
 "nbformat": 4,
 "nbformat_minor": 2
}
